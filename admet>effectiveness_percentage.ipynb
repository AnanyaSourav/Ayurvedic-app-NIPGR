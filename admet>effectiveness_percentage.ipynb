{
  "nbformat": 4,
  "nbformat_minor": 0,
  "metadata": {
    "colab": {
      "provenance": [],
      "authorship_tag": "ABX9TyM8JEsoh+eGw7+pn8jbuKKX",
      "include_colab_link": true
    },
    "kernelspec": {
      "name": "python3",
      "display_name": "Python 3"
    },
    "language_info": {
      "name": "python"
    }
  },
  "cells": [
    {
      "cell_type": "markdown",
      "metadata": {
        "id": "view-in-github",
        "colab_type": "text"
      },
      "source": [
        "<a href=\"https://colab.research.google.com/github/AnanyaSourav/Ayurvedic-app-NIPGR/blob/main/admet%3Eeffectiveness_percentage.ipynb\" target=\"_parent\"><img src=\"https://colab.research.google.com/assets/colab-badge.svg\" alt=\"Open In Colab\"/></a>"
      ]
    },
    {
      "cell_type": "code",
      "execution_count": null,
      "metadata": {
        "id": "BMcOdvNhA8ZP"
      },
      "outputs": [],
      "source": [
        "import requests\n",
        "import time\n",
        "import pandas as pd\n",
        "\n",
        "# Step 1. Define your SMILES list\n",
        "smiles_list = [\n",
        "    \"CCOc1ccc2nc(S(N)(=O)=O)sc2c1\",   # Example: sulfanilamide\n",
        "    \"C1=CC=CC=C1\",                    # Benzene\n",
        "    \"CC(=O)OC1=CC=CC=C1C(=O)O\"        # Aspirin (acetylsalicylic acid)\n",
        "    # Add more SMILES as needed\n",
        "]\n",
        "\n",
        "# Step 2. Function to batch-query ADMETlab 3.0\n",
        "def get_admet_admetlab(smiles_list):\n",
        "    results = []\n",
        "    url = \"https://admetlab3.scbdd.com/api/predict/\"\n",
        "    headers = {'Content-Type': 'application/json'}\n",
        "    for sm in smiles_list:\n",
        "        payload = {\"structure\": sm}\n",
        "        try:\n",
        "            r = requests.post(url, json=payload, headers=headers)\n",
        "            if r.status_code == 200:\n",
        "                out = r.json()\n",
        "                props = out.get(\"properties\", {})\n",
        "                result = {\n",
        "                    \"SMILES\": sm,\n",
        "                    \"HIA\": props.get(\"HumanIntestinalAbsorption\", None),\n",
        "                    \"BBB\": props.get(\"BloodBrainBarrier\", None),\n",
        "                    \"Ames_test\": props.get(\"AmesTest\", None),\n",
        "                    \"hERG\": props.get(\"HERGInhibition\", None),\n",
        "                    # Add more endpoints as desired\n",
        "                }\n",
        "                results.append(result)\n",
        "            else:\n",
        "                results.append({\"SMILES\": sm, \"HIA\": None, \"BBB\": None, \"Ames_test\": None, \"hERG\": None})\n",
        "            time.sleep(0.5)  # be kind to the API\n",
        "        except Exception as e:\n",
        "            results.append({\"SMILES\": sm, \"Error\": str(e)})\n",
        "    return pd.DataFrame(results)\n",
        "\n",
        "# Step 3. Effectiveness scoring function\n",
        "def calculate_efficiency(df):\n",
        "    # Apply simple binary rules; modify as required for your needs.\n",
        "    df[\"score_HIA\"] = df[\"HIA\"].apply(lambda x: 1 if str(x).lower() in [\"high\", \"positive\", \"yes\"] else 0)\n",
        "    df[\"score_BBB\"] = df[\"BBB\"].apply(lambda x: 1 if str(x).lower() in [\"no\", \"negative\"] else 0)\n",
        "    df[\"score_Ames\"] = df[\"Ames_test\"].apply(lambda x: 1 if \"non\" in str(x).lower() else 0)\n",
        "    df[\"score_hERG\"] = df[\"hERG\"].apply(lambda x: 1 if \"non\" in str(x).lower() else 0)\n",
        "    score_cols = [\"score_HIA\", \"score_BBB\", \"score_Ames\", \"score_hERG\"]\n",
        "    df[\"ADMET_Efficiency_%\"] = df[score_cols].mean(axis=1) * 100\n",
        "    return df\n",
        "\n",
        "# Step 4. Run the pipeline\n",
        "admet_df = get_admet_admetlab(smiles_list)\n",
        "final_df = calculate_efficiency(admet_df)\n",
        "\n",
        "# Step 5. Calculate average effectiveness across all compounds\n",
        "average_efficiency = final_df[\"ADMET_Efficiency_%\"].mean()\n",
        "\n",
        "# Display results\n",
        "print(\"Individual ADMET effectiveness (%):\")\n",
        "print(final_df[[\"SMILES\", \"ADMET_Efficiency_%\"]])\n",
        "print(f\"\\nAverage ADMET effectiveness: {average_efficiency:.2f}%\")\n"
      ]
    }
  ]
}